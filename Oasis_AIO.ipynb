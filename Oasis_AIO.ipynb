{
  "nbformat": 4,
  "nbformat_minor": 0,
  "metadata": {
    "colab": {
      "provenance": [],
      "gpuType": "T4"
    },
    "kernelspec": {
      "name": "python3",
      "display_name": "Python 3"
    },
    "language_info": {
      "name": "python"
    },
    "accelerator": "GPU"
  },
  "cells": [
    {
      "cell_type": "code",
      "execution_count": null,
      "metadata": {
        "id": "w-obCG9uiZYb"
      },
      "outputs": [],
      "source": [
        "# @title Initialize\n",
        "hf_token = \"\" # @param {\"type\":\"string\",\"placeholder\":\"Your HuggingFace access token\"}\n",
        "\n",
        "from pathlib import Path\n",
        "Path(\"/content/images\").mkdir(exist_ok=True)\n",
        "Path(\"/content/ffmpeg\").mkdir(exist_ok=True)\n",
        "\n",
        "!git clone --branch cuda https://github.com/hhkcu/open-oasis.git\n",
        "\n",
        "print(\"Installing dependencies\")\n",
        "\n",
        "%cd /content\n",
        "\n",
        "!wget -q \"$(curl -s -I https://github.com/cloudflare/cloudflared/releases/latest|grep location|cut -d\" \" -f 2|tr -d \"\\r\"|sed s/tag/download/)/cloudflared-linux-amd64\" -O /content/cloudflared\n",
        "!chmod a+x /content/cloudflared\n",
        "!wget \"https://johnvansickle.com/ffmpeg/releases/ffmpeg-release-amd64-static.tar.xz\" -O ffmpeg.tar.xz\n",
        "!tar xf ffmpeg.tar.xz --strip-components=1 -C /content/ffmpeg\n",
        "\n",
        "!pip install -U \"huggingface-hub[cli]\"\n",
        "!pip install torch torchvision --index-url https://download.pytorch.org/whl/cu121\n",
        "!pip install einops diffusers timm av websockets ffmpeg-python safetensors\n",
        "\n",
        "%cd /content/open-oasis\n",
        "\n",
        "print(\"Downloading models\")\n",
        "\n",
        "!huggingface-cli login --token $hf_token\n",
        "!huggingface-cli download --local-dir . Etched/oasis-500m oasis500m.safetensors\n",
        "!huggingface-cli download --local-dir . Etched/oasis-500m vit-l-20.safetensors\n"
      ]
    },
    {
      "cell_type": "markdown",
      "source": [
        "To insert a custom starting image, run the cell above to initialize everything, then place any images you want into the `images` folder.\n",
        "\n",
        "After that, run the cell below."
      ],
      "metadata": {
        "id": "ku7QXAVBi_Db"
      }
    },
    {
      "cell_type": "code",
      "source": [
        "# @title Parse Starting Images\n",
        "import os, pathlib, ffmpeg, sys\n",
        "\n",
        "crop_width=640\n",
        "crop_height=360\n",
        "\n",
        "imagesPath = \"/content/images\"\n",
        "samplesPath = os.path.join(\"/content/open-oasis\", \"sample_data\")\n",
        "for fn in os.listdir(imagesPath):\n",
        "  print(os.path.join(samplesPath, pathlib.Path(fn).stem+\".mp4\"))\n",
        "  ffmpeg.input(os.path.join(imagesPath, fn),loop=1).output(os.path.join(samplesPath, pathlib.Path(fn).stem+\".mp4\"),vcodec=\"libx264\",t=1,pix_fmt=\"yuv420p\",vf=f'crop=iw:iw*9/16,scale={crop_width}:{crop_height}').run()"
      ],
      "metadata": {
        "id": "6hqRW1Sb37lY"
      },
      "execution_count": null,
      "outputs": []
    },
    {
      "cell_type": "code",
      "source": [
        "# @title Run Game\n",
        "starting_img_name = \"2024-11-04_20.07.59\" # @param {\"type\":\"string\",\"placeholder\":\"Filename of the starting image\"}\n",
        "%cd /content\n",
        "!./cloudflared tunnel --url http://127.0.0.1:17890 &>c.log &\n",
        "!sleep 6\n",
        "!grep \"  https\" c.log |cut -d \" \" -f 5\n",
        "%cd /content/open-oasis\n",
        "!STARTING_IMAGE_NAME=$starting_img_name python3 game.py\n"
      ],
      "metadata": {
        "id": "EBTkFPuK5TR5"
      },
      "execution_count": null,
      "outputs": []
    },
    {
      "cell_type": "code",
      "source": [
        "# @title fix\n",
        "!pkill cloudflared"
      ],
      "metadata": {
        "id": "zRVQBHG73oz7"
      },
      "execution_count": 29,
      "outputs": []
    },
    {
      "cell_type": "code",
      "source": [
        "# @title (for me) pull\n",
        "%cd /content/open-oasis\n",
        "!git pull"
      ],
      "metadata": {
        "id": "2rvdWyfk6MNK"
      },
      "execution_count": null,
      "outputs": []
    }
  ]
}